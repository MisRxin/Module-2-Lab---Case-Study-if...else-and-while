{
 "cells": [
  {
   "cell_type": "code",
   "execution_count": null,
   "id": "78bc0175-f4d9-4105-9a8a-01af8442c590",
   "metadata": {},
   "outputs": [],
   "source": [
    "# Shia Cudjoe\n",
    "# Module 2 Lab - Case Study: if...else and while\n",
    "# ( Student GPA ); Determines whether or not a \n",
    "# student is qualified for Honor Roll or the Dean's List.\n",
    "\n",
    "\n",
    "while True:\n",
    "    last_name = input(\"Enter the student's last name (or type 'ZZZ' to quit): \")\n",
    "    \n",
    "    if last_name.upper() == 'ZZZ':\n",
    "        print(\"Goodbye.\")\n",
    "        break\n",
    "    \n",
    "    first_name = input(\"Enter the student's first name: \")\n",
    "    \n",
    "    gpa = float(input(\"Enter the student's GPA: \"))\n",
    "        if gpa >= 3.5:\n",
    "        print(f\"{first_name} {last_name} has made the Dean's List.\")\n",
    "    elif gpa >= 3.25:\n",
    "        print(f\"{first_name} {last_name} has made the Honor Roll.\")\n",
    "    else:\n",
    "        print(f\"{first_name} {last_name} does not qualify for the Dean's List or Honor Roll.\")\n"
   ]
  }
 ],
 "metadata": {
  "kernelspec": {
   "display_name": "Python 3 (ipykernel)",
   "language": "python",
   "name": "python3"
  },
  "language_info": {
   "codemirror_mode": {
    "name": "ipython",
    "version": 3
   },
   "file_extension": ".py",
   "mimetype": "text/x-python",
   "name": "python",
   "nbconvert_exporter": "python",
   "pygments_lexer": "ipython3",
   "version": "3.12.4"
  }
 },
 "nbformat": 4,
 "nbformat_minor": 5
}
